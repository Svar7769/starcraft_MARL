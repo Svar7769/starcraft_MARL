{
 "cells": [
  {
   "cell_type": "markdown",
   "id": "07e76814-2083-496f-9cba-835f02a7fa47",
   "metadata": {},
   "source": [
    "# PPO- based Pysc2\n",
    "\n",
    "Modular Design\n",
    "sc2_ppo_project/\n",
    "\n",
    "├── main.py             # Entry-point to run training\n",
    "\n",
    "├── config.py           # Hyperparameters and logging config\n",
    "\n",
    "├── environment.py      # SC2 environment wrapper\n",
    "\n",
    "├── model.py            # Actor-Critic neural network\n",
    "\n",
    "├── utils.py            # Observation preprocessing and action utilities\n",
    "\n",
    "└── ppo.py              # PPO training algorithm implementation\n",
    "\n"
   ]
  },
  {
   "cell_type": "code",
   "execution_count": 1,
   "id": "86f92e15-9658-4ec9-8e6c-2b6e7769257c",
   "metadata": {},
   "outputs": [],
   "source": [
    "# config.py"
   ]
  },
  {
   "cell_type": "code",
   "execution_count": 25,
   "id": "9344929d-431d-4821-8768-35f16cb59ec8",
   "metadata": {},
   "outputs": [],
   "source": [
    "import torch\n",
    "import logging\n",
    "\n",
    "# ─── Hyperparameters ─────────────────────────────\n",
    "# MAP_NAME     = \"CollectMineralsAndGas\"\n",
    "# MAP_NAME = \"BuildMarines\"\n",
    "MAP_NAME = \"DefeatRoaches\"\n",
    "# MAP_NAME     = \"Simple64\"\n",
    "\n",
    "SCREEN_SIZE  = 84\n",
    "MINIMAP_SIZE = 64\n",
    "STEP_MUL     = 16\n",
    "NB_ACTORS    = 1\n",
    "T            = 128\n",
    "K            = 10\n",
    "BATCH_SIZE   = 256\n",
    "GAMMA        = 0.99\n",
    "GAE_LAMBDA   = 0.95\n",
    "LR           = 2.5e-4\n",
    "ENT_COEF     = 0.01\n",
    "VF_COEF      = 1.0\n",
    "MAX_ITERS    = 10000\n",
    "DEVICE       = torch.device(\"cuda\" if torch.cuda.is_available() else \"cpu\")\n",
    "\n",
    "# ─── Logging Configuration ──────────────────────\n",
    "logging.basicConfig(\n",
    "    level=logging.INFO,\n",
    "    format=\"%(asctime)s [%(levelname)s] %(message)s\",\n",
    "    datefmt=\"%H:%M:%S\"\n",
    ")\n",
    "logger = logging.getLogger(__name__)\n"
   ]
  },
  {
   "cell_type": "code",
   "execution_count": 2,
   "id": "25c30bd3-1eff-4263-93d8-d42fc320ad86",
   "metadata": {},
   "outputs": [],
   "source": [
    "# env.py"
   ]
  },
  {
   "cell_type": "code",
   "execution_count": 3,
   "id": "656af9d7-6973-448b-b4f6-a6ca44b13d37",
   "metadata": {},
   "outputs": [
    {
     "name": "stdout",
     "output_type": "stream",
     "text": [
      "pygame 2.6.1 (SDL 2.28.4, Python 3.11.9)\n",
      "Hello from the pygame community. https://www.pygame.org/contribute.html\n"
     ]
    }
   ],
   "source": [
    "from pysc2.env import sc2_env\n",
    "from pysc2.lib import actions, features\n",
    "# from config import MAP_NAME, SCREEN_SIZE, MINIMAP_SIZE, STEP_MUL, logger\n",
    "\n",
    "class SC2Envs:\n",
    "    def __init__(self, nb_actor):\n",
    "        logger.info(\"Initializing %d SC2 env(s)...\", nb_actor)\n",
    "        self.nb   = nb_actor\n",
    "        self.envs = [self._make_env() for _ in range(nb_actor)]\n",
    "        self.obs  = [None]*nb_actor\n",
    "        self.done = [False]*nb_actor\n",
    "        self._init_all()\n",
    "        logger.info(\"All SC2 env(s) ready.\")\n",
    "\n",
    "    def _make_env(self):\n",
    "        return sc2_env.SC2Env(\n",
    "            map_name=MAP_NAME,\n",
    "            players=[sc2_env.Agent(sc2_env.Race.terran)],\n",
    "            agent_interface_format=features.AgentInterfaceFormat(\n",
    "                feature_dimensions=features.Dimensions(\n",
    "                    screen=SCREEN_SIZE, minimap=MINIMAP_SIZE),\n",
    "                use_feature_units=True,\n",
    "                use_raw_units=False,\n",
    "                use_camera_position=True,\n",
    "                action_space=actions.ActionSpace.FEATURES\n",
    "            ),\n",
    "            step_mul=STEP_MUL,\n",
    "            game_steps_per_episode=0,\n",
    "            visualize=False,\n",
    "        )\n",
    "\n",
    "    def _init_all(self):\n",
    "        for i, e in enumerate(self.envs):\n",
    "            ts = e.reset()[0]\n",
    "            self.obs[i], self.done[i] = ts, False\n",
    "\n",
    "    def reset(self, i):\n",
    "        ts = self.envs[i].reset()[0]\n",
    "        self.obs[i], self.done[i] = ts, False\n",
    "        return ts\n",
    "\n",
    "    def step(self, i, fc):\n",
    "        ts = self.envs[i].step([fc])[0]\n",
    "        self.obs[i], self.done[i] = ts, ts.last()\n",
    "        return ts\n",
    "\n",
    "    def close(self):\n",
    "        for e in self.envs:\n",
    "            e.close()\n"
   ]
  },
  {
   "cell_type": "code",
   "execution_count": 4,
   "id": "009ecfc0-4629-46d1-9c03-55c6733f10f5",
   "metadata": {},
   "outputs": [],
   "source": [
    "#Multi Plaer Map\n",
    "\n",
    "from pysc2.env import sc2_env\n",
    "from pysc2.lib import actions, features\n",
    "import logging\n",
    "\n",
    "class SC2EnvsMulti:\n",
    "    def __init__(self, nb_actor):\n",
    "        logger.info(\"Initializing %d SC2 env(s)...\", nb_actor)\n",
    "        self.nb = nb_actor\n",
    "        self.envs = [self._make_env() for _ in range(nb_actor)]\n",
    "        self.obs = [env.reset()[0] for env in self.envs]\n",
    "        self.done = [False] * nb_actor\n",
    "\n",
    "    def _make_env(self):\n",
    "        return sc2_env.SC2Env(\n",
    "            map_name=MAP_NAME,\n",
    "            players=[\n",
    "                sc2_env.Agent(sc2_env.Race.terran),\n",
    "                sc2_env.Bot(sc2_env.Race.terran, sc2_env.Difficulty.very_easy)\n",
    "\n",
    "            ],\n",
    "            agent_interface_format=features.AgentInterfaceFormat(\n",
    "                feature_dimensions=features.Dimensions(\n",
    "                    screen=SCREEN_SIZE, minimap=MINIMAP_SIZE),\n",
    "                use_feature_units=True,\n",
    "                use_raw_units=False,\n",
    "                use_camera_position=True,\n",
    "                action_space=actions.ActionSpace.FEATURES\n",
    "            ),\n",
    "            step_mul=STEP_MUL,\n",
    "            game_steps_per_episode=0,\n",
    "            visualize=False\n",
    "        )\n",
    "\n",
    "    def step(self, i, action):\n",
    "        timestep = self.envs[i].step([action])[0]\n",
    "        self.obs[i] = timestep\n",
    "        self.done[i] = timestep.last()\n",
    "        return timestep\n",
    "\n",
    "    def reset(self, i):\n",
    "        self.obs[i] = self.envs[i].reset()[0]\n",
    "        self.done[i] = False\n",
    "\n",
    "    def close(self):\n",
    "        for env in self.envs:\n",
    "            env.close()\n"
   ]
  },
  {
   "cell_type": "code",
   "execution_count": 5,
   "id": "f776099f-7adf-49ec-b782-9b7d1f38d45b",
   "metadata": {},
   "outputs": [],
   "source": [
    "# model.py"
   ]
  },
  {
   "cell_type": "code",
   "execution_count": 6,
   "id": "d359419f-72a0-4747-aeec-d3cdb502bba0",
   "metadata": {},
   "outputs": [],
   "source": [
    "import torch\n",
    "import torch.nn as nn\n",
    "# from config import SCREEN_SIZE, DEVICE\n",
    "\n",
    "class ActorCritic(nn.Module):\n",
    "    def __init__(self, in_channels, nb_actions):\n",
    "        super().__init__()\n",
    "        self.conv = nn.Sequential(\n",
    "            nn.Conv2d(in_channels, 16, 8, stride=4), nn.Tanh(),\n",
    "            nn.Conv2d(16, 32, 4, stride=2), nn.Tanh(),\n",
    "            nn.Flatten(),\n",
    "        )\n",
    "        with torch.no_grad():\n",
    "            dummy = torch.zeros(1, in_channels, SCREEN_SIZE, SCREEN_SIZE)\n",
    "            conv_out = self.conv(dummy).shape[-1]\n",
    "\n",
    "        self.fc     = nn.Sequential(nn.Linear(conv_out, 256), nn.Tanh())\n",
    "        self.actor  = nn.Linear(256, nb_actions)\n",
    "        self.critic = nn.Linear(256, 1)\n",
    "\n",
    "    def forward(self, x):\n",
    "        h = self.conv(x)\n",
    "        h = self.fc(h)\n",
    "        return self.actor(h), self.critic(h).squeeze(-1)\n"
   ]
  },
  {
   "cell_type": "code",
   "execution_count": 7,
   "id": "c70587f2-7223-4547-afe0-6a9f1c26f701",
   "metadata": {},
   "outputs": [],
   "source": [
    "# utils.py"
   ]
  },
  {
   "cell_type": "code",
   "execution_count": 8,
   "id": "28143d60-a430-4f01-829a-f1278b94f2c2",
   "metadata": {},
   "outputs": [],
   "source": [
    "# import torch\n",
    "# import numpy as np\n",
    "# import random\n",
    "# from pysc2.lib import actions, features\n",
    "# # from config import DEVICE\n",
    "\n",
    "# _PLAYER_RELATIVE = features.SCREEN_FEATURES.player_relative.index\n",
    "# _UNIT_TYPE       = features.SCREEN_FEATURES.unit_type.index\n",
    "\n",
    "# ACTION_LIST = ['do_nothing', 'select_idle', 'build_refinery', 'harvest']\n",
    "# FUNC_ID = {\n",
    "#     'do_nothing': actions.FUNCTIONS.no_op.id,\n",
    "#     'select_idle': actions.FUNCTIONS.select_idle_worker.id,\n",
    "#     'build_refinery': actions.FUNCTIONS.Build_Refinery_screen.id,\n",
    "#     'harvest': actions.FUNCTIONS.Harvest_Gather_screen.id,\n",
    "# }\n",
    "\n",
    "# def preprocess(ts):\n",
    "#     fs = ts.observation.feature_screen\n",
    "#     pr = fs[_PLAYER_RELATIVE].astype(np.float32) / 4.0\n",
    "#     ut = fs[_UNIT_TYPE].astype(np.float32) / fs[_UNIT_TYPE].max()\n",
    "#     stacked = np.stack([pr, ut], axis=0)\n",
    "#     return torch.from_numpy(stacked).unsqueeze(0).float().to(DEVICE)\n",
    "\n",
    "# def legal_actions(ts):\n",
    "#     avail = set(ts.observation.available_actions)\n",
    "#     fus   = ts.observation.feature_units\n",
    "#     legal = [0]\n",
    "#     if FUNC_ID['select_idle'] in avail: legal.append(1)\n",
    "#     if FUNC_ID['build_refinery'] in avail and any(u.unit_type==342 for u in fus): legal.append(2)\n",
    "#     if FUNC_ID['harvest'] in avail and any(u.unit_type==341 for u in fus): legal.append(3)\n",
    "#     return legal\n",
    "\n",
    "# def make_pysc2_call(action_idx, ts):\n",
    "#     name, fid = ACTION_LIST[action_idx], FUNC_ID[ACTION_LIST[action_idx]]\n",
    "#     if name == 'select_idle':\n",
    "#         return actions.FunctionCall(fid, [[2]])\n",
    "#     if name in ('build_refinery','harvest'):\n",
    "#         fus = ts.observation.feature_units\n",
    "#         cand = [u for u in fus if (u.unit_type==342 if name=='build_refinery' else u.unit_type==341)]\n",
    "#         if not cand:\n",
    "#             return actions.FunctionCall(actions.FUNCTIONS.no_op.id, [])\n",
    "#         u = random.choice(cand)\n",
    "#         return actions.FunctionCall(fid, [[0],[u.x,u.y]])\n",
    "#     return actions.FunctionCall(fid, [])\n"
   ]
  },
  {
   "cell_type": "code",
   "execution_count": 9,
   "id": "e9259464-83a6-4c0d-a9a9-7b536dd1af8b",
   "metadata": {},
   "outputs": [],
   "source": [
    "import torch\n",
    "import numpy as np\n",
    "import random\n",
    "from pysc2.lib import actions, features\n",
    "\n",
    "_PLAYER_RELATIVE = features.SCREEN_FEATURES.player_relative.index\n",
    "_UNIT_TYPE = features.SCREEN_FEATURES.unit_type.index\n",
    "\n",
    "ACTION_LIST = ['do_nothing', 'move', 'attack', 'build', 'gather', 'upgrade', 'train']\n",
    "ACTION_INDEX = {name: idx for idx, name in enumerate(ACTION_LIST)}\n",
    "\n",
    "SCREEN_SIZE = 84\n",
    "\n",
    "# Terran building unit_type IDs (partial list — expand as needed)\n",
    "TERRAN_STRUCTURE_TYPES = [\n",
    "    18,   # CommandCenter\n",
    "    20,   # SupplyDepot\n",
    "    21,   # Barracks\n",
    "    22,   # EngineeringBay\n",
    "    23,   # MissileTurret\n",
    "    24,   # Bunker\n",
    "    25,   # Refinery\n",
    "    27,   # Factory\n",
    "    28,   # GhostAcademy\n",
    "    29,   # Starport\n",
    "    30,   # Armory\n",
    "    130, 131, 132, 133  # Tech lab, Reactor, etc.\n",
    "]\n",
    "\n",
    "def safe_coords(x, y, screen_size=SCREEN_SIZE):\n",
    "    x = max(0, min(screen_size - 1, x))\n",
    "    y = max(0, min(screen_size - 1, y))\n",
    "    return [x, y]\n",
    "\n",
    "def preprocess(ts):\n",
    "    fs = ts.observation.feature_screen\n",
    "    pr = fs[_PLAYER_RELATIVE].astype(np.float32) / 4.0\n",
    "    ut = fs[_UNIT_TYPE].astype(np.float32) / fs[_UNIT_TYPE].max()\n",
    "    stacked = np.stack([pr, ut], axis=0)\n",
    "    return torch.from_numpy(stacked).unsqueeze(0).float()\n",
    "\n",
    "def legal_actions(ts):\n",
    "    avail = set(ts.observation.available_actions)\n",
    "    fus = ts.observation.feature_units\n",
    "    legal = [ACTION_INDEX['do_nothing']]\n",
    "\n",
    "    if actions.FUNCTIONS.Move_screen.id in avail:\n",
    "        legal.append(ACTION_INDEX['move'])\n",
    "\n",
    "    if actions.FUNCTIONS.Attack_screen.id in avail:\n",
    "        legal.append(ACTION_INDEX['attack'])\n",
    "\n",
    "    if any('Build' in actions.FUNCTIONS[a].name for a in avail):\n",
    "        legal.append(ACTION_INDEX['build'])\n",
    "\n",
    "    if actions.FUNCTIONS.Harvest_Gather_screen.id in avail and any(u.unit_type == 341 for u in fus):\n",
    "        legal.append(ACTION_INDEX['gather'])\n",
    "\n",
    "    if any('Research' in actions.FUNCTIONS[a].name for a in avail):\n",
    "        legal.append(ACTION_INDEX['upgrade'])\n",
    "\n",
    "    if any('Train' in actions.FUNCTIONS[a].name for a in avail):\n",
    "        legal.append(ACTION_INDEX['train'])\n",
    "\n",
    "    return legal\n",
    "\n",
    "def make_pysc2_call(action_idx, ts, pending=None):\n",
    "    obs = ts.observation\n",
    "    fus = obs.feature_units\n",
    "    avail = set(obs.available_actions)\n",
    "\n",
    "    if pending:\n",
    "        if pending['action_fn'] in avail:\n",
    "            args = pending['args']\n",
    "            if len(args) > 1 and isinstance(args[1], list) and len(args[1]) == 2:\n",
    "                x, y = args[1]\n",
    "                return actions.FunctionCall(pending['action_fn'], [args[0], safe_coords(x, y)]), None\n",
    "            else:\n",
    "                return actions.FunctionCall(pending['action_fn'], args), None\n",
    "        else:\n",
    "            print(f\"[SKIP] Function {pending['action_fn']} not available anymore.\")\n",
    "            return actions.FunctionCall(actions.FUNCTIONS.no_op.id, []), None\n",
    "\n",
    "    # ── Train: Select building first ──\n",
    "    if action_idx == ACTION_INDEX['train']:\n",
    "        building_units = [u for u in fus if u.alliance == features.PlayerRelative.SELF and u.unit_type in TERRAN_STRUCTURE_TYPES]\n",
    "        if not building_units or actions.FUNCTIONS.select_point.id not in avail:\n",
    "            return actions.FunctionCall(actions.FUNCTIONS.no_op.id, []), None\n",
    "\n",
    "        building = random.choice(building_units)\n",
    "        select_coords = safe_coords(building.x, building.y)\n",
    "        select_action = actions.FunctionCall(actions.FUNCTIONS.select_point.id, [[0], select_coords])\n",
    "\n",
    "        train_actions = [a for a in avail if 'Train' in actions.FUNCTIONS[a].name]\n",
    "        if train_actions:\n",
    "            train_action = random.choice(train_actions)\n",
    "            next_action = {'action_fn': train_action, 'args': [[0]]}\n",
    "        else:\n",
    "            next_action = None\n",
    "\n",
    "        return select_action, next_action\n",
    "\n",
    "    # ── Default: Select unit ──\n",
    "    selectable_units = [u for u in fus if u.alliance == features.PlayerRelative.SELF]\n",
    "    if not selectable_units or actions.FUNCTIONS.select_point.id not in avail:\n",
    "        return actions.FunctionCall(actions.FUNCTIONS.no_op.id, []), None\n",
    "\n",
    "    unit = random.choice(selectable_units)\n",
    "    select_coords = safe_coords(unit.x, unit.y)\n",
    "    select_action = actions.FunctionCall(actions.FUNCTIONS.select_point.id, [[0], select_coords])\n",
    "\n",
    "    if action_idx == ACTION_INDEX['move'] and actions.FUNCTIONS.Move_screen.id in avail:\n",
    "        x, y = np.random.randint(0, SCREEN_SIZE), np.random.randint(0, SCREEN_SIZE)\n",
    "        next_action = {'action_fn': actions.FUNCTIONS.Move_screen.id, 'args': [[0], [x, y]]}\n",
    "\n",
    "    elif action_idx == ACTION_INDEX['attack'] and actions.FUNCTIONS.Attack_screen.id in avail:\n",
    "        enemies = [u for u in fus if u.alliance == features.PlayerRelative.ENEMY]\n",
    "        if enemies:\n",
    "            target = random.choice(enemies)\n",
    "            next_action = {'action_fn': actions.FUNCTIONS.Attack_screen.id, 'args': [[0], [target.x, target.y]]}\n",
    "        else:\n",
    "            next_action = None\n",
    "\n",
    "    elif action_idx == ACTION_INDEX['gather'] and actions.FUNCTIONS.Harvest_Gather_screen.id in avail:\n",
    "        minerals = [u for u in fus if u.unit_type == 341]\n",
    "        if minerals:\n",
    "            target = random.choice(minerals)\n",
    "            next_action = {'action_fn': actions.FUNCTIONS.Harvest_Gather_screen.id, 'args': [[0], [target.x, target.y]]}\n",
    "        else:\n",
    "            next_action = None\n",
    "\n",
    "    elif action_idx == ACTION_INDEX['build']:\n",
    "        build_actions = [a for a in avail if 'Build' in actions.FUNCTIONS[a].name]\n",
    "        if build_actions:\n",
    "            build_action = random.choice(build_actions)\n",
    "            buildable = np.argwhere(obs.feature_screen.buildable == 1)\n",
    "            if buildable.size > 0:\n",
    "                y, x = random.choice(buildable)\n",
    "                next_action = {'action_fn': build_action, 'args': [[0], [x, y]]}\n",
    "            else:\n",
    "                next_action = None\n",
    "        else:\n",
    "            next_action = None\n",
    "\n",
    "    elif action_idx == ACTION_INDEX['upgrade']:\n",
    "        upgrade_actions = [a for a in avail if 'Research' in actions.FUNCTIONS[a].name]\n",
    "        if upgrade_actions:\n",
    "            upgrade_action = random.choice(upgrade_actions)\n",
    "            next_action = {'action_fn': upgrade_action, 'args': [[0]]}\n",
    "        else:\n",
    "            next_action = None\n",
    "\n",
    "    else:\n",
    "        next_action = None\n",
    "\n",
    "    return select_action, next_action\n",
    "\n",
    "def make_pysc2_call_core(action_idx, ts):\n",
    "    obs = ts.observation\n",
    "    fus = obs.feature_units\n",
    "    avail = set(obs.available_actions)\n",
    "\n",
    "    if action_idx == ACTION_INDEX['do_nothing']:\n",
    "        return actions.FunctionCall(actions.FUNCTIONS.no_op.id, []), None\n",
    "\n",
    "    if action_idx == ACTION_INDEX['move'] and actions.FUNCTIONS.Move_screen.id in avail:\n",
    "        x, y = np.random.randint(0, SCREEN_SIZE), np.random.randint(0, SCREEN_SIZE)\n",
    "        return actions.FunctionCall(actions.FUNCTIONS.Move_screen.id, [[0], safe_coords(x, y)]), None\n",
    "\n",
    "    if action_idx == ACTION_INDEX['attack'] and actions.FUNCTIONS.Attack_screen.id in avail:\n",
    "        enemies = [u for u in fus if u.alliance == features.PlayerRelative.ENEMY]\n",
    "        if enemies:\n",
    "            target = random.choice(enemies)\n",
    "            return actions.FunctionCall(actions.FUNCTIONS.Attack_screen.id, [[0], safe_coords(target.x, target.y)]), None\n",
    "\n",
    "    if action_idx == ACTION_INDEX['build']:\n",
    "        build_actions = [a for a in avail if 'Build' in actions.FUNCTIONS[a].name]\n",
    "        if build_actions:\n",
    "            build_action = random.choice(build_actions)\n",
    "            buildable = np.argwhere(obs.feature_screen.buildable == 1)\n",
    "            if buildable.size > 0:\n",
    "                y, x = random.choice(buildable)\n",
    "                return actions.FunctionCall(build_action, [[0], safe_coords(x, y)]), None\n",
    "\n",
    "    if action_idx == ACTION_INDEX['gather'] and actions.FUNCTIONS.Harvest_Gather_screen.id in avail:\n",
    "        minerals = [u for u in fus if u.unit_type == 341]\n",
    "        if minerals:\n",
    "            target = random.choice(minerals)\n",
    "            return actions.FunctionCall(actions.FUNCTIONS.Harvest_Gather_screen.id, [[0], safe_coords(target.x, target.y)]), None\n",
    "\n",
    "    if action_idx == ACTION_INDEX['upgrade']:\n",
    "        upgrade_actions = [a for a in avail if 'Research' in actions.FUNCTIONS[a].name]\n",
    "        if upgrade_actions:\n",
    "            upgrade_action = random.choice(upgrade_actions)\n",
    "            return actions.FunctionCall(upgrade_action, [[0]]), None\n",
    "\n",
    "    if action_idx == ACTION_INDEX['train']:\n",
    "        train_actions = [a for a in avail if 'Train' in actions.FUNCTIONS[a].name]\n",
    "        if train_actions:\n",
    "            train_action = random.choice(train_actions)\n",
    "            return actions.FunctionCall(train_action, [[0]]), None\n",
    "\n",
    "    return actions.FunctionCall(actions.FUNCTIONS.no_op.id, []), None\n"
   ]
  },
  {
   "cell_type": "code",
   "execution_count": 10,
   "id": "95d4b4d6-c7fb-47f8-9b29-89ca20299c6b",
   "metadata": {},
   "outputs": [],
   "source": [
    "# PPO training LOOP"
   ]
  },
  {
   "cell_type": "code",
   "execution_count": 11,
   "id": "6f710a40-241f-4cef-91a8-4413a650d37c",
   "metadata": {},
   "outputs": [],
   "source": [
    "import torch\n",
    "import torch.nn as nn\n",
    "from torch.distributions.categorical import Categorical\n",
    "from torch.utils.data import DataLoader, TensorDataset\n",
    "import matplotlib.pyplot as plt\n",
    "\n",
    "from pysc2.lib import actions\n",
    "from config import *\n",
    "# from utils import preprocess, legal_actions, make_pysc2_call\n",
    "\n",
    "\n",
    "def PPO(envs, model):\n",
    "    optimizer = torch.optim.Adam(model.parameters(), lr=LR)\n",
    "    scheduler = torch.optim.lr_scheduler.LinearLR(\n",
    "        optimizer, start_factor=1.0, end_factor=0.0, total_iters=MAX_ITERS\n",
    "    )\n",
    "\n",
    "    ep_rewards = []\n",
    "\n",
    "    logger.info(\"▶️  Starting PPO for %d iterations\", MAX_ITERS)\n",
    "    for it in range(MAX_ITERS):\n",
    "        if it % 1000 == 0:\n",
    "            logger.info(\"🔄 Iter %d / %d\", it, MAX_ITERS)\n",
    "\n",
    "        # storage buffers\n",
    "        obs_buf  = torch.zeros(envs.nb, T, 2, SCREEN_SIZE, SCREEN_SIZE, device=DEVICE)\n",
    "        act_buf  = torch.zeros(envs.nb, T,      dtype=torch.long, device=DEVICE)\n",
    "        logp_buf = torch.zeros(envs.nb, T,                     device=DEVICE)\n",
    "        val_buf  = torch.zeros(envs.nb, T+1,                   device=DEVICE)\n",
    "        rew_buf  = torch.zeros(envs.nb, T,                     device=DEVICE)\n",
    "        done_buf = torch.zeros(envs.nb, T,                     device=DEVICE)\n",
    "        adv_buf  = torch.zeros(envs.nb, T,                     device=DEVICE)\n",
    "\n",
    "        # ─── Rollout ─────────────────────────────────────────────────────────\n",
    "        with torch.no_grad():\n",
    "            for t in range(T):\n",
    "                for i in range(envs.nb):\n",
    "                    ts    = envs.obs[i]\n",
    "                    state = preprocess(ts)\n",
    "                    logits, value = model(state)\n",
    "\n",
    "                    # mask illegal\n",
    "                    LA   = legal_actions(ts)\n",
    "                    mask = torch.full_like(logits, float('-inf'))\n",
    "                    mask[0, LA] = 0.0\n",
    "                    dist = Categorical(logits=logits + mask)\n",
    "\n",
    "                    action = dist.sample()\n",
    "                    logp   = dist.log_prob(action)\n",
    "                    fc     = make_pysc2_call(action.item(), ts)\n",
    "\n",
    "                    # step (fallback to no-op)\n",
    "                    try:\n",
    "                        ts2 = envs.step(i, fc)\n",
    "                    except ValueError:\n",
    "                        ts2 = envs.step(i,\n",
    "                            actions.FunctionCall(actions.FUNCTIONS.no_op.id, []))\n",
    "\n",
    "                    # ── use env reward directly ─────────────────────────────\n",
    "                    r = ts2.reward\n",
    "                    d = float(ts2.last())\n",
    "\n",
    "                    obs_buf[i,t]  = state\n",
    "                    act_buf[i,t]  = action\n",
    "                    logp_buf[i,t] = logp\n",
    "                    val_buf[i,t]  = value\n",
    "                    rew_buf[i,t]  = r\n",
    "                    done_buf[i,t] = d\n",
    "\n",
    "                    if d:\n",
    "                        ep_rewards.append(sum(rew_buf[i, :t+1].tolist()))\n",
    "                        envs.reset(i)\n",
    "\n",
    "            # bootstrap final value\n",
    "            for i in range(envs.nb):\n",
    "                val_buf[i,T] = model(preprocess(envs.obs[i]))[1]\n",
    "\n",
    "        # ─── GAE & flatten ────────────────────────────────────────────────────\n",
    "        for i in range(envs.nb):\n",
    "            gae = 0\n",
    "            for t in reversed(range(T)):\n",
    "                mask  = 1.0 - done_buf[i,t]\n",
    "                delta = rew_buf[i,t] + GAMMA*val_buf[i,t+1]*mask - val_buf[i,t]\n",
    "                gae   = delta + GAMMA*GAE_LAMBDA*mask*gae\n",
    "                adv_buf[i,t] = gae\n",
    "\n",
    "        b_s  = obs_buf.reshape(-1,2,SCREEN_SIZE,SCREEN_SIZE)\n",
    "        b_a  = act_buf.reshape(-1)\n",
    "        b_lp = logp_buf.reshape(-1)\n",
    "        b_v  = val_buf[:,:T].reshape(-1)\n",
    "        b_ad = adv_buf.reshape(-1)\n",
    "\n",
    "        # ─── PPO updates ─────────────────────────────────────────────────────\n",
    "        for _ in range(K):\n",
    "            ds     = TensorDataset(b_s,b_a,b_lp,b_v,b_ad)\n",
    "            loader = DataLoader(ds, batch_size=BATCH_SIZE, shuffle=True)\n",
    "            for st, ac, old_lp, old_v, adv in loader:\n",
    "                logits, val = model(st)\n",
    "                dist        = Categorical(logits=logits)\n",
    "                lp          = dist.log_prob(ac)\n",
    "                ratio       = torch.exp(lp - old_lp)\n",
    "\n",
    "                clip   = 0.1 * (1 - it/MAX_ITERS)\n",
    "                obj1   = adv * ratio\n",
    "                obj2   = adv * torch.clamp(ratio, 1-clip, 1+clip)\n",
    "                p_loss = -torch.min(obj1,obj2).mean()\n",
    "\n",
    "                ret     = adv + old_v\n",
    "                v1      = (val - ret).pow(2)\n",
    "                v2      = (torch.clamp(val,old_v-clip,old_v+clip)-ret).pow(2)\n",
    "                v_loss  = 0.5 * torch.max(v1,v2).mean()\n",
    "\n",
    "                entropy = dist.entropy().mean()\n",
    "                loss    = p_loss + VF_COEF*v_loss - ENT_COEF*entropy\n",
    "\n",
    "                optimizer.zero_grad()\n",
    "                loss.backward()\n",
    "                nn.utils.clip_grad_norm_(model.parameters(),0.5)\n",
    "                optimizer.step()\n",
    "\n",
    "        scheduler.step()\n",
    "\n",
    "    # ─── Plot learning curve ───────────────────────────────────────────────────\n",
    "    plt.figure(figsize=(10,5))\n",
    "    plt.plot(ep_rewards, label=\"episode reward\")\n",
    "    plt.title(\"Environment Reward per Episode\")\n",
    "    plt.xlabel(\"Episode\")\n",
    "    plt.ylabel(\"Reward\")\n",
    "    plt.grid(True)\n",
    "    plt.legend()\n",
    "    plt.savefig(\"learning_curve.png\")\n",
    "    plt.show()\n",
    "\n",
    "    envs.close()\n",
    "    logger.info(\"✅ Training complete\")\n",
    "    logger.info(f\"Saved learning_curve.png over {len(ep_rewards)} episodes\")\n"
   ]
  },
  {
   "cell_type": "code",
   "execution_count": 12,
   "id": "fdcecead-f59c-4bbd-827d-771ad655c3e7",
   "metadata": {},
   "outputs": [],
   "source": [
    "# main.py"
   ]
  },
  {
   "cell_type": "code",
   "execution_count": 13,
   "id": "47d18d4c-cd99-477a-be83-74fd6005978b",
   "metadata": {
    "scrolled": true
   },
   "outputs": [],
   "source": [
    "# from absl import app\n",
    "# # from environment import SC2Envs\n",
    "# # from model import ActorCritic\n",
    "# # from ppo import PPO\n",
    "# # from config import NB_ACTORS, DEVICE\n",
    "# # from utils import ACTION_LIST\n",
    "\n",
    "# def main(_):\n",
    "#     envs = SC2Envs(NB_ACTORS)\n",
    "#     model = ActorCritic(2, len(ACTION_LIST)).to(DEVICE)\n",
    "#     PPO(envs, model)\n",
    "\n",
    "# if __name__ == \"__main__\":\n",
    "#     import sys\n",
    "#     sys.argv = sys.argv[:1]  # Remove extra flags passed by Jupyter or IPython\n",
    "#     app.run(main)\n"
   ]
  },
  {
   "cell_type": "code",
   "execution_count": 14,
   "id": "942d6802-c091-4439-9f6c-a28b16ccbb30",
   "metadata": {
    "scrolled": true
   },
   "outputs": [],
   "source": [
    "# from rich.live import Live\n",
    "# from rich.table import Table\n",
    "# from rich.console import Console\n",
    "# from collections import deque\n",
    "# import matplotlib.pyplot as plt\n",
    "# import random\n",
    "# import sys\n",
    "# from absl import flags\n",
    "\n",
    "# flags.FLAGS(sys.argv)  # fix required by pysc2\n",
    "# # from util import preprocess, legal_actions, make_pysc2_call\n",
    "# # from env import SC2Envs\n",
    "\n",
    "# console = Console()\n",
    "# envs = SC2Envs(nb_actor=1)\n",
    "# pending_action = [None] * envs.nb\n",
    "\n",
    "# MAX_ROWS = 20\n",
    "# recent_rows = deque(maxlen=MAX_ROWS)\n",
    "\n",
    "# # For tracking per-episode scores\n",
    "# episode_score = [0] * envs.nb\n",
    "# scores = []\n",
    "\n",
    "# def generate_table():\n",
    "#     table = Table(title=f\"SC2 Agent Actions (Last {MAX_ROWS} Steps)\", expand=True)\n",
    "#     table.add_column(\"Step\", justify=\"right\")\n",
    "#     table.add_column(\"Function ID\", justify=\"right\")\n",
    "#     table.add_column(\"Args\", justify=\"left\")\n",
    "#     for row in recent_rows:\n",
    "#         table.add_row(*row)\n",
    "#     return table\n",
    "\n",
    "# with Live(generate_table(), refresh_per_second=10, console=console, transient=True) as live:\n",
    "#     for step in range(MAX_ITERS):\n",
    "#         for i in range(envs.nb):\n",
    "#             ts = envs.obs[i]\n",
    "\n",
    "#             if pending_action[i]:\n",
    "#                 action, pending_action[i] = make_pysc2_call(None, ts, pending_action[i])\n",
    "#             else:\n",
    "#                 legal = legal_actions(ts)\n",
    "#                 action_idx = random.choice(legal)\n",
    "#                 action, pending_action[i] = make_pysc2_call(action_idx, ts)\n",
    "\n",
    "#             recent_rows.append((str(step), str(action.function), str(action.arguments)))\n",
    "#             live.update(generate_table())\n",
    "\n",
    "#             ts = envs.step(i, action)\n",
    "#             episode_score[i] += ts.reward\n",
    "\n",
    "#             if ts.last():\n",
    "#                 scores.append(episode_score[i])\n",
    "#                 episode_score[i] = 0  # reset\n",
    "#                 envs.reset(i)\n",
    "\n",
    "# envs.close()\n",
    "\n",
    "# # Plot episode scores\n",
    "# plt.figure(figsize=(10, 4))\n",
    "# plt.plot(scores, label=\"Episode Score\", marker='o', linewidth=1.5)\n",
    "# plt.xlabel(\"Episode\")\n",
    "# plt.ylabel(\"Total Score\")\n",
    "# plt.title(\"Agent Score per Episode\")\n",
    "# plt.grid(True)\n",
    "# plt.legend()\n",
    "# plt.tight_layout()\n",
    "# plt.show()\n"
   ]
  },
  {
   "cell_type": "code",
   "execution_count": 15,
   "id": "9a1044ec-ea4c-4ed4-91c4-6cede1bb862f",
   "metadata": {
    "scrolled": true
   },
   "outputs": [],
   "source": [
    "# Campain Maps"
   ]
  },
  {
   "cell_type": "code",
   "execution_count": null,
   "id": "9e3b570e-8f16-4ebf-ba44-aef48488f488",
   "metadata": {
    "scrolled": true
   },
   "outputs": [
    {
     "name": "stderr",
     "output_type": "stream",
     "text": [
      "01:31:43 [INFO] Initializing 1 SC2 env(s)...\n",
      "01:31:43 [INFO] Launching SC2: D:\\Games\\StarCraft II\\Versions/Base94137\\SC2_x64.exe -listen 127.0.0.1 -port 52939 -dataDir D:\\Games\\StarCraft II\\ -tempDir C:\\Users\\svarp\\AppData\\Local\\Temp\\sc-isq5_xtg\\ -displayMode 0 -windowwidth 640 -windowheight 480 -windowx 50 -windowy 50\n",
      "01:31:43 [INFO] Connecting to: ws://127.0.0.1:52939/sc2api, attempt: 0, running: True\n",
      "01:31:46 [INFO] Connecting to: ws://127.0.0.1:52939/sc2api, attempt: 1, running: True\n",
      "01:31:49 [INFO] Connecting to: ws://127.0.0.1:52939/sc2api, attempt: 2, running: True\n",
      "01:31:52 [INFO] Connecting to: ws://127.0.0.1:52939/sc2api, attempt: 3, running: True\n",
      "01:32:03 [INFO] Environment is ready\n",
      "01:32:03 [INFO] Starting episode 1: [terran, zerg] on DefeatRoaches\n",
      "01:32:03 [INFO] Environment Close\n"
     ]
    },
    {
     "data": {
      "application/vnd.jupyter.widget-view+json": {
       "model_id": "704dda801255442e9bfbc9730ee6afb1",
       "version_major": 2,
       "version_minor": 0
      },
      "text/plain": [
       "Output()"
      ]
     },
     "metadata": {},
     "output_type": "display_data"
    },
    {
     "name": "stderr",
     "output_type": "stream",
     "text": [
      "01:32:04 [INFO] Episode 1 finished after 896 game steps. Outcome: [-1], reward: [np.int32(-1)], score: [np.int32(-9)]\n",
      "01:32:09 [INFO] Starting episode 2: [terran, zerg] on DefeatRoaches\n",
      "01:32:13 [INFO] Starting episode 3: [terran, zerg] on DefeatRoaches\n",
      "01:32:14 [INFO] Episode 3 finished after 640 game steps. Outcome: [-1], reward: [np.int32(-1)], score: [np.int32(-9)]\n"
     ]
    },
    {
     "data": {
      "text/html": [
       "<pre style=\"white-space:pre;overflow-x:auto;line-height:normal;font-family:Menlo,'DejaVu Sans Mono',consolas,'Courier New',monospace\">[SKIP] Function 12 not available anymore.\n",
       "</pre>\n"
      ],
      "text/plain": [
       "[SKIP] Function 12 not available anymore.\n"
      ]
     },
     "metadata": {},
     "output_type": "display_data"
    },
    {
     "name": "stderr",
     "output_type": "stream",
     "text": [
      "01:32:18 [INFO] Starting episode 4: [terran, zerg] on DefeatRoaches\n",
      "01:32:23 [INFO] Starting episode 5: [terran, zerg] on DefeatRoaches\n",
      "01:32:25 [INFO] Episode 5 finished after 1280 game steps. Outcome: [-1], reward: [np.int32(-1)], score: [np.int32(-9)]\n",
      "01:32:29 [INFO] Starting episode 6: [terran, zerg] on DefeatRoaches\n",
      "01:32:35 [INFO] Starting episode 7: [terran, zerg] on DefeatRoaches\n",
      "01:32:37 [INFO] Episode 7 finished after 720 game steps. Outcome: [-1], reward: [np.int32(-1)], score: [np.int32(-9)]\n",
      "01:32:43 [INFO] Starting episode 8: [terran, zerg] on DefeatRoaches\n",
      "01:32:50 [INFO] Starting episode 9: [terran, zerg] on DefeatRoaches\n",
      "01:32:52 [INFO] Episode 9 finished after 640 game steps. Outcome: [-1], reward: [np.int32(-1)], score: [np.int32(-9)]\n"
     ]
    },
    {
     "data": {
      "text/html": [
       "<pre style=\"white-space:pre;overflow-x:auto;line-height:normal;font-family:Menlo,'DejaVu Sans Mono',consolas,'Courier New',monospace\">[SKIP] Function 12 not available anymore.\n",
       "</pre>\n"
      ],
      "text/plain": [
       "[SKIP] Function 12 not available anymore.\n"
      ]
     },
     "metadata": {},
     "output_type": "display_data"
    },
    {
     "name": "stderr",
     "output_type": "stream",
     "text": [
      "01:32:58 [INFO] Starting episode 10: [terran, zerg] on DefeatRoaches\n",
      "01:33:04 [INFO] Starting episode 11: [terran, zerg] on DefeatRoaches\n"
     ]
    },
    {
     "data": {
      "text/html": [
       "<pre style=\"white-space:pre;overflow-x:auto;line-height:normal;font-family:Menlo,'DejaVu Sans Mono',consolas,'Courier New',monospace\">[SKIP] Function 12 not available anymore.\n",
       "</pre>\n"
      ],
      "text/plain": [
       "[SKIP] Function 12 not available anymore.\n"
      ]
     },
     "metadata": {},
     "output_type": "display_data"
    },
    {
     "data": {
      "text/html": [
       "<pre style=\"white-space:pre;overflow-x:auto;line-height:normal;font-family:Menlo,'DejaVu Sans Mono',consolas,'Courier New',monospace\">[SKIP] Function 12 not available anymore.\n",
       "</pre>\n"
      ],
      "text/plain": [
       "[SKIP] Function 12 not available anymore.\n"
      ]
     },
     "metadata": {},
     "output_type": "display_data"
    },
    {
     "name": "stderr",
     "output_type": "stream",
     "text": [
      "01:33:07 [INFO] Episode 11 finished after 1168 game steps. Outcome: [-1], reward: [np.int32(-1)], score: [np.int32(-9)]\n",
      "01:33:14 [INFO] Starting episode 12: [terran, zerg] on DefeatRoaches\n",
      "01:33:20 [INFO] Starting episode 13: [terran, zerg] on DefeatRoaches\n",
      "01:33:22 [INFO] Episode 13 finished after 704 game steps. Outcome: [-1], reward: [np.int32(-1)], score: [np.int32(-9)]\n",
      "01:33:28 [INFO] Starting episode 14: [terran, zerg] on DefeatRoaches\n",
      "01:33:32 [INFO] Starting episode 15: [terran, zerg] on DefeatRoaches\n"
     ]
    },
    {
     "data": {
      "text/html": [
       "<pre style=\"white-space:pre;overflow-x:auto;line-height:normal;font-family:Menlo,'DejaVu Sans Mono',consolas,'Courier New',monospace\">[SKIP] Function 12 not available anymore.\n",
       "</pre>\n"
      ],
      "text/plain": [
       "[SKIP] Function 12 not available anymore.\n"
      ]
     },
     "metadata": {},
     "output_type": "display_data"
    },
    {
     "name": "stderr",
     "output_type": "stream",
     "text": [
      "01:33:33 [INFO] Episode 15 finished after 896 game steps. Outcome: [-1], reward: [np.int32(-1)], score: [np.int32(-9)]\n"
     ]
    },
    {
     "data": {
      "text/html": [
       "<pre style=\"white-space:pre;overflow-x:auto;line-height:normal;font-family:Menlo,'DejaVu Sans Mono',consolas,'Courier New',monospace\">[SKIP] Function 331 not available anymore.\n",
       "</pre>\n"
      ],
      "text/plain": [
       "[SKIP] Function 331 not available anymore.\n"
      ]
     },
     "metadata": {},
     "output_type": "display_data"
    },
    {
     "name": "stderr",
     "output_type": "stream",
     "text": [
      "01:33:38 [INFO] Starting episode 16: [terran, zerg] on DefeatRoaches\n",
      "01:33:42 [INFO] Starting episode 17: [terran, zerg] on DefeatRoaches\n",
      "01:33:43 [INFO] Episode 17 finished after 752 game steps. Outcome: [-1], reward: [np.int32(-1)], score: [np.int32(-9)]\n"
     ]
    },
    {
     "data": {
      "text/html": [
       "<pre style=\"white-space:pre;overflow-x:auto;line-height:normal;font-family:Menlo,'DejaVu Sans Mono',consolas,'Courier New',monospace\">[SKIP] Function 12 not available anymore.\n",
       "</pre>\n"
      ],
      "text/plain": [
       "[SKIP] Function 12 not available anymore.\n"
      ]
     },
     "metadata": {},
     "output_type": "display_data"
    },
    {
     "name": "stderr",
     "output_type": "stream",
     "text": [
      "01:33:48 [INFO] Starting episode 18: [terran, zerg] on DefeatRoaches\n",
      "01:33:52 [INFO] Starting episode 19: [terran, zerg] on DefeatRoaches\n"
     ]
    },
    {
     "data": {
      "text/html": [
       "<pre style=\"white-space:pre;overflow-x:auto;line-height:normal;font-family:Menlo,'DejaVu Sans Mono',consolas,'Courier New',monospace\">[SKIP] Function 12 not available anymore.\n",
       "</pre>\n"
      ],
      "text/plain": [
       "[SKIP] Function 12 not available anymore.\n"
      ]
     },
     "metadata": {},
     "output_type": "display_data"
    },
    {
     "data": {
      "text/html": [
       "<pre style=\"white-space:pre;overflow-x:auto;line-height:normal;font-family:Menlo,'DejaVu Sans Mono',consolas,'Courier New',monospace\">[SKIP] Function 331 not available anymore.\n",
       "</pre>\n"
      ],
      "text/plain": [
       "[SKIP] Function 331 not available anymore.\n"
      ]
     },
     "metadata": {},
     "output_type": "display_data"
    },
    {
     "name": "stderr",
     "output_type": "stream",
     "text": [
      "01:33:53 [INFO] Episode 19 finished after 1152 game steps. Outcome: [-1], reward: [np.int32(-1)], score: [np.int32(-9)]\n",
      "01:33:57 [INFO] Starting episode 20: [terran, zerg] on DefeatRoaches\n",
      "01:34:02 [INFO] Starting episode 21: [terran, zerg] on DefeatRoaches\n",
      "01:34:03 [INFO] Episode 21 finished after 656 game steps. Outcome: [-1], reward: [np.int32(-1)], score: [np.int32(-9)]\n",
      "01:34:07 [INFO] Starting episode 22: [terran, zerg] on DefeatRoaches\n",
      "01:34:11 [INFO] Starting episode 23: [terran, zerg] on DefeatRoaches\n"
     ]
    },
    {
     "data": {
      "text/html": [
       "<pre style=\"white-space:pre;overflow-x:auto;line-height:normal;font-family:Menlo,'DejaVu Sans Mono',consolas,'Courier New',monospace\">[SKIP] Function 331 not available anymore.\n",
       "</pre>\n"
      ],
      "text/plain": [
       "[SKIP] Function 331 not available anymore.\n"
      ]
     },
     "metadata": {},
     "output_type": "display_data"
    },
    {
     "name": "stderr",
     "output_type": "stream",
     "text": [
      "01:34:12 [INFO] Episode 23 finished after 752 game steps. Outcome: [-1], reward: [np.int32(-1)], score: [np.int32(-9)]\n"
     ]
    },
    {
     "data": {
      "text/html": [
       "<pre style=\"white-space:pre;overflow-x:auto;line-height:normal;font-family:Menlo,'DejaVu Sans Mono',consolas,'Courier New',monospace\">[SKIP] Function 12 not available anymore.\n",
       "</pre>\n"
      ],
      "text/plain": [
       "[SKIP] Function 12 not available anymore.\n"
      ]
     },
     "metadata": {},
     "output_type": "display_data"
    },
    {
     "name": "stderr",
     "output_type": "stream",
     "text": [
      "01:34:16 [INFO] Starting episode 24: [terran, zerg] on DefeatRoaches\n",
      "01:34:21 [INFO] Starting episode 25: [terran, zerg] on DefeatRoaches\n"
     ]
    },
    {
     "data": {
      "text/html": [
       "<pre style=\"white-space:pre;overflow-x:auto;line-height:normal;font-family:Menlo,'DejaVu Sans Mono',consolas,'Courier New',monospace\">[SKIP] Function 331 not available anymore.\n",
       "</pre>\n"
      ],
      "text/plain": [
       "[SKIP] Function 331 not available anymore.\n"
      ]
     },
     "metadata": {},
     "output_type": "display_data"
    },
    {
     "name": "stderr",
     "output_type": "stream",
     "text": [
      "01:34:22 [INFO] Episode 25 finished after 752 game steps. Outcome: [-1], reward: [np.int32(-1)], score: [np.int32(-9)]\n",
      "01:34:26 [INFO] Starting episode 26: [terran, zerg] on DefeatRoaches\n",
      "01:34:30 [INFO] Starting episode 27: [terran, zerg] on DefeatRoaches\n"
     ]
    },
    {
     "data": {
      "text/html": [
       "<pre style=\"white-space:pre;overflow-x:auto;line-height:normal;font-family:Menlo,'DejaVu Sans Mono',consolas,'Courier New',monospace\">[SKIP] Function 12 not available anymore.\n",
       "</pre>\n"
      ],
      "text/plain": [
       "[SKIP] Function 12 not available anymore.\n"
      ]
     },
     "metadata": {},
     "output_type": "display_data"
    },
    {
     "name": "stderr",
     "output_type": "stream",
     "text": [
      "01:34:31 [INFO] Episode 27 finished after 640 game steps. Outcome: [-1], reward: [np.int32(-1)], score: [np.int32(-9)]\n",
      "01:34:35 [INFO] Starting episode 28: [terran, zerg] on DefeatRoaches\n",
      "01:34:40 [INFO] Starting episode 29: [terran, zerg] on DefeatRoaches\n"
     ]
    },
    {
     "data": {
      "text/html": [
       "<pre style=\"white-space:pre;overflow-x:auto;line-height:normal;font-family:Menlo,'DejaVu Sans Mono',consolas,'Courier New',monospace\">[SKIP] Function 12 not available anymore.\n",
       "</pre>\n"
      ],
      "text/plain": [
       "[SKIP] Function 12 not available anymore.\n"
      ]
     },
     "metadata": {},
     "output_type": "display_data"
    },
    {
     "name": "stderr",
     "output_type": "stream",
     "text": [
      "01:34:41 [INFO] Episode 29 finished after 1008 game steps. Outcome: [-1], reward: [np.int32(-1)], score: [np.int32(-9)]\n"
     ]
    },
    {
     "data": {
      "text/html": [
       "<pre style=\"white-space:pre;overflow-x:auto;line-height:normal;font-family:Menlo,'DejaVu Sans Mono',consolas,'Courier New',monospace\">[SKIP] Function 331 not available anymore.\n",
       "</pre>\n"
      ],
      "text/plain": [
       "[SKIP] Function 331 not available anymore.\n"
      ]
     },
     "metadata": {},
     "output_type": "display_data"
    },
    {
     "name": "stderr",
     "output_type": "stream",
     "text": [
      "01:34:45 [INFO] Starting episode 30: [terran, zerg] on DefeatRoaches\n",
      "01:34:49 [INFO] Starting episode 31: [terran, zerg] on DefeatRoaches\n"
     ]
    },
    {
     "data": {
      "text/html": [
       "<pre style=\"white-space:pre;overflow-x:auto;line-height:normal;font-family:Menlo,'DejaVu Sans Mono',consolas,'Courier New',monospace\">[SKIP] Function 12 not available anymore.\n",
       "</pre>\n"
      ],
      "text/plain": [
       "[SKIP] Function 12 not available anymore.\n"
      ]
     },
     "metadata": {},
     "output_type": "display_data"
    },
    {
     "data": {
      "text/html": [
       "<pre style=\"white-space:pre;overflow-x:auto;line-height:normal;font-family:Menlo,'DejaVu Sans Mono',consolas,'Courier New',monospace\">[SKIP] Function 331 not available anymore.\n",
       "</pre>\n"
      ],
      "text/plain": [
       "[SKIP] Function 331 not available anymore.\n"
      ]
     },
     "metadata": {},
     "output_type": "display_data"
    },
    {
     "name": "stderr",
     "output_type": "stream",
     "text": [
      "01:34:51 [INFO] Episode 31 finished after 976 game steps. Outcome: [-1], reward: [np.int32(-1)], score: [np.int32(-9)]\n"
     ]
    },
    {
     "data": {
      "text/html": [
       "<pre style=\"white-space:pre;overflow-x:auto;line-height:normal;font-family:Menlo,'DejaVu Sans Mono',consolas,'Courier New',monospace\">[SKIP] Function 12 not available anymore.\n",
       "</pre>\n"
      ],
      "text/plain": [
       "[SKIP] Function 12 not available anymore.\n"
      ]
     },
     "metadata": {},
     "output_type": "display_data"
    },
    {
     "name": "stderr",
     "output_type": "stream",
     "text": [
      "01:34:55 [INFO] Starting episode 32: [terran, zerg] on DefeatRoaches\n",
      "01:34:59 [INFO] Starting episode 33: [terran, zerg] on DefeatRoaches\n"
     ]
    },
    {
     "data": {
      "text/html": [
       "<pre style=\"white-space:pre;overflow-x:auto;line-height:normal;font-family:Menlo,'DejaVu Sans Mono',consolas,'Courier New',monospace\">[SKIP] Function 331 not available anymore.\n",
       "</pre>\n"
      ],
      "text/plain": [
       "[SKIP] Function 331 not available anymore.\n"
      ]
     },
     "metadata": {},
     "output_type": "display_data"
    },
    {
     "name": "stderr",
     "output_type": "stream",
     "text": [
      "01:35:00 [INFO] Episode 33 finished after 944 game steps. Outcome: [-1], reward: [np.int32(-1)], score: [np.int32(-9)]\n",
      "01:35:04 [INFO] Starting episode 34: [terran, zerg] on DefeatRoaches\n",
      "01:35:09 [INFO] Starting episode 35: [terran, zerg] on DefeatRoaches\n"
     ]
    },
    {
     "data": {
      "text/html": [
       "<pre style=\"white-space:pre;overflow-x:auto;line-height:normal;font-family:Menlo,'DejaVu Sans Mono',consolas,'Courier New',monospace\">[SKIP] Function 331 not available anymore.\n",
       "</pre>\n"
      ],
      "text/plain": [
       "[SKIP] Function 331 not available anymore.\n"
      ]
     },
     "metadata": {},
     "output_type": "display_data"
    },
    {
     "name": "stderr",
     "output_type": "stream",
     "text": [
      "01:35:10 [INFO] Episode 35 finished after 1088 game steps. Outcome: [-1], reward: [np.int32(-1)], score: [np.int32(-9)]\n"
     ]
    },
    {
     "data": {
      "text/html": [
       "<pre style=\"white-space:pre;overflow-x:auto;line-height:normal;font-family:Menlo,'DejaVu Sans Mono',consolas,'Courier New',monospace\">[SKIP] Function 12 not available anymore.\n",
       "</pre>\n"
      ],
      "text/plain": [
       "[SKIP] Function 12 not available anymore.\n"
      ]
     },
     "metadata": {},
     "output_type": "display_data"
    },
    {
     "name": "stderr",
     "output_type": "stream",
     "text": [
      "01:35:14 [INFO] Starting episode 36: [terran, zerg] on DefeatRoaches\n",
      "01:35:18 [INFO] Starting episode 37: [terran, zerg] on DefeatRoaches\n"
     ]
    },
    {
     "data": {
      "text/html": [
       "<pre style=\"white-space:pre;overflow-x:auto;line-height:normal;font-family:Menlo,'DejaVu Sans Mono',consolas,'Courier New',monospace\">[SKIP] Function 331 not available anymore.\n",
       "</pre>\n"
      ],
      "text/plain": [
       "[SKIP] Function 331 not available anymore.\n"
      ]
     },
     "metadata": {},
     "output_type": "display_data"
    },
    {
     "data": {
      "text/html": [
       "<pre style=\"white-space:pre;overflow-x:auto;line-height:normal;font-family:Menlo,'DejaVu Sans Mono',consolas,'Courier New',monospace\">[SKIP] Function 331 not available anymore.\n",
       "</pre>\n"
      ],
      "text/plain": [
       "[SKIP] Function 331 not available anymore.\n"
      ]
     },
     "metadata": {},
     "output_type": "display_data"
    },
    {
     "name": "stderr",
     "output_type": "stream",
     "text": [
      "01:35:20 [INFO] Episode 37 finished after 816 game steps. Outcome: [-1], reward: [np.int32(-1)], score: [np.int32(-9)]\n",
      "01:35:24 [INFO] Starting episode 38: [terran, zerg] on DefeatRoaches\n",
      "01:35:28 [INFO] Starting episode 39: [terran, zerg] on DefeatRoaches\n"
     ]
    },
    {
     "data": {
      "text/html": [
       "<pre style=\"white-space:pre;overflow-x:auto;line-height:normal;font-family:Menlo,'DejaVu Sans Mono',consolas,'Courier New',monospace\">[SKIP] Function 331 not available anymore.\n",
       "</pre>\n"
      ],
      "text/plain": [
       "[SKIP] Function 331 not available anymore.\n"
      ]
     },
     "metadata": {},
     "output_type": "display_data"
    },
    {
     "name": "stderr",
     "output_type": "stream",
     "text": [
      "01:35:29 [INFO] Episode 39 finished after 560 game steps. Outcome: [-1], reward: [np.int32(-1)], score: [np.int32(-9)]\n",
      "01:35:33 [INFO] Starting episode 40: [terran, zerg] on DefeatRoaches\n",
      "01:35:37 [INFO] Starting episode 41: [terran, zerg] on DefeatRoaches\n"
     ]
    },
    {
     "data": {
      "text/html": [
       "<pre style=\"white-space:pre;overflow-x:auto;line-height:normal;font-family:Menlo,'DejaVu Sans Mono',consolas,'Courier New',monospace\">[SKIP] Function 12 not available anymore.\n",
       "</pre>\n"
      ],
      "text/plain": [
       "[SKIP] Function 12 not available anymore.\n"
      ]
     },
     "metadata": {},
     "output_type": "display_data"
    },
    {
     "data": {
      "text/html": [
       "<pre style=\"white-space:pre;overflow-x:auto;line-height:normal;font-family:Menlo,'DejaVu Sans Mono',consolas,'Courier New',monospace\">[SKIP] Function 331 not available anymore.\n",
       "</pre>\n"
      ],
      "text/plain": [
       "[SKIP] Function 331 not available anymore.\n"
      ]
     },
     "metadata": {},
     "output_type": "display_data"
    },
    {
     "name": "stderr",
     "output_type": "stream",
     "text": [
      "01:35:39 [INFO] Episode 41 finished after 1584 game steps. Outcome: [-1], reward: [np.int32(-1)], score: [np.int32(-9)]\n",
      "01:35:43 [INFO] Starting episode 42: [terran, zerg] on DefeatRoaches\n",
      "01:35:48 [INFO] Starting episode 43: [terran, zerg] on DefeatRoaches\n"
     ]
    },
    {
     "data": {
      "text/html": [
       "<pre style=\"white-space:pre;overflow-x:auto;line-height:normal;font-family:Menlo,'DejaVu Sans Mono',consolas,'Courier New',monospace\">[SKIP] Function 12 not available anymore.\n",
       "</pre>\n"
      ],
      "text/plain": [
       "[SKIP] Function 12 not available anymore.\n"
      ]
     },
     "metadata": {},
     "output_type": "display_data"
    },
    {
     "name": "stderr",
     "output_type": "stream",
     "text": [
      "01:35:49 [INFO] Episode 43 finished after 688 game steps. Outcome: [-1], reward: [np.int32(-1)], score: [np.int32(-9)]\n",
      "01:35:53 [INFO] Starting episode 44: [terran, zerg] on DefeatRoaches\n",
      "01:35:57 [INFO] Starting episode 45: [terran, zerg] on DefeatRoaches\n"
     ]
    },
    {
     "data": {
      "text/html": [
       "<pre style=\"white-space:pre;overflow-x:auto;line-height:normal;font-family:Menlo,'DejaVu Sans Mono',consolas,'Courier New',monospace\">[SKIP] Function 331 not available anymore.\n",
       "</pre>\n"
      ],
      "text/plain": [
       "[SKIP] Function 331 not available anymore.\n"
      ]
     },
     "metadata": {},
     "output_type": "display_data"
    },
    {
     "name": "stderr",
     "output_type": "stream",
     "text": [
      "01:35:58 [INFO] Episode 45 finished after 784 game steps. Outcome: [-1], reward: [np.int32(-1)], score: [np.int32(-9)]\n"
     ]
    },
    {
     "data": {
      "text/html": [
       "<pre style=\"white-space:pre;overflow-x:auto;line-height:normal;font-family:Menlo,'DejaVu Sans Mono',consolas,'Courier New',monospace\">[SKIP] Function 331 not available anymore.\n",
       "</pre>\n"
      ],
      "text/plain": [
       "[SKIP] Function 331 not available anymore.\n"
      ]
     },
     "metadata": {},
     "output_type": "display_data"
    },
    {
     "name": "stderr",
     "output_type": "stream",
     "text": [
      "01:36:02 [INFO] Starting episode 46: [terran, zerg] on DefeatRoaches\n",
      "01:36:34 [INFO] Episode 47 finished after 624 game steps. Outcome: [-1], reward: [np.int32(-1)], score: [np.int32(-9)]\n"
     ]
    },
    {
     "data": {
      "text/html": [
       "<pre style=\"white-space:pre;overflow-x:auto;line-height:normal;font-family:Menlo,'DejaVu Sans Mono',consolas,'Courier New',monospace\">[SKIP] Function 12 not available anymore.\n",
       "</pre>\n"
      ],
      "text/plain": [
       "[SKIP] Function 12 not available anymore.\n"
      ]
     },
     "metadata": {},
     "output_type": "display_data"
    },
    {
     "name": "stderr",
     "output_type": "stream",
     "text": [
      "01:37:03 [INFO] Starting episode 48: [terran, zerg] on DefeatRoaches\n",
      "01:37:32 [INFO] Starting episode 49: [terran, zerg] on DefeatRoaches\n",
      "01:37:48 [INFO] Episode 49 finished after 848 game steps. Outcome: [-1], reward: [np.int32(-1)], score: [np.int32(-9)]\n",
      "01:37:54 [INFO] Starting episode 50: [terran, zerg] on DefeatRoaches\n",
      "01:37:59 [INFO] Starting episode 51: [terran, zerg] on DefeatRoaches\n"
     ]
    },
    {
     "data": {
      "text/html": [
       "<pre style=\"white-space:pre;overflow-x:auto;line-height:normal;font-family:Menlo,'DejaVu Sans Mono',consolas,'Courier New',monospace\">[SKIP] Function 12 not available anymore.\n",
       "</pre>\n"
      ],
      "text/plain": [
       "[SKIP] Function 12 not available anymore.\n"
      ]
     },
     "metadata": {},
     "output_type": "display_data"
    },
    {
     "name": "stderr",
     "output_type": "stream",
     "text": [
      "01:38:01 [INFO] Episode 51 finished after 1136 game steps. Outcome: [-1], reward: [np.int32(-1)], score: [np.int32(-9)]\n",
      "01:38:05 [INFO] Starting episode 52: [terran, zerg] on DefeatRoaches\n",
      "01:38:09 [INFO] Starting episode 53: [terran, zerg] on DefeatRoaches\n"
     ]
    },
    {
     "data": {
      "text/html": [
       "<pre style=\"white-space:pre;overflow-x:auto;line-height:normal;font-family:Menlo,'DejaVu Sans Mono',consolas,'Courier New',monospace\">[SKIP] Function 12 not available anymore.\n",
       "</pre>\n"
      ],
      "text/plain": [
       "[SKIP] Function 12 not available anymore.\n"
      ]
     },
     "metadata": {},
     "output_type": "display_data"
    },
    {
     "name": "stderr",
     "output_type": "stream",
     "text": [
      "01:38:10 [INFO] Episode 53 finished after 672 game steps. Outcome: [-1], reward: [np.int32(-1)], score: [np.int32(-9)]\n",
      "01:38:14 [INFO] Starting episode 54: [terran, zerg] on DefeatRoaches\n",
      "01:38:18 [INFO] Starting episode 55: [terran, zerg] on DefeatRoaches\n"
     ]
    },
    {
     "data": {
      "text/html": [
       "<pre style=\"white-space:pre;overflow-x:auto;line-height:normal;font-family:Menlo,'DejaVu Sans Mono',consolas,'Courier New',monospace\">[SKIP] Function 331 not available anymore.\n",
       "</pre>\n"
      ],
      "text/plain": [
       "[SKIP] Function 331 not available anymore.\n"
      ]
     },
     "metadata": {},
     "output_type": "display_data"
    },
    {
     "name": "stderr",
     "output_type": "stream",
     "text": [
      "01:38:19 [INFO] Episode 55 finished after 512 game steps. Outcome: [-1], reward: [np.int32(-1)], score: [np.int32(-9)]\n",
      "01:38:23 [INFO] Starting episode 56: [terran, zerg] on DefeatRoaches\n",
      "01:38:27 [INFO] Starting episode 57: [terran, zerg] on DefeatRoaches\n"
     ]
    },
    {
     "data": {
      "text/html": [
       "<pre style=\"white-space:pre;overflow-x:auto;line-height:normal;font-family:Menlo,'DejaVu Sans Mono',consolas,'Courier New',monospace\">[SKIP] Function 12 not available anymore.\n",
       "</pre>\n"
      ],
      "text/plain": [
       "[SKIP] Function 12 not available anymore.\n"
      ]
     },
     "metadata": {},
     "output_type": "display_data"
    },
    {
     "name": "stderr",
     "output_type": "stream",
     "text": [
      "01:38:28 [INFO] Episode 57 finished after 864 game steps. Outcome: [-1], reward: [np.int32(-1)], score: [np.int32(-9)]\n",
      "01:38:32 [INFO] Starting episode 58: [terran, zerg] on DefeatRoaches\n",
      "01:38:36 [INFO] Starting episode 59: [terran, zerg] on DefeatRoaches\n",
      "01:38:37 [INFO] Episode 59 finished after 640 game steps. Outcome: [-1], reward: [np.int32(-1)], score: [np.int32(-9)]\n",
      "01:38:41 [INFO] Starting episode 60: [terran, zerg] on DefeatRoaches\n",
      "01:38:45 [INFO] Starting episode 61: [terran, zerg] on DefeatRoaches\n"
     ]
    },
    {
     "data": {
      "text/html": [
       "<pre style=\"white-space:pre;overflow-x:auto;line-height:normal;font-family:Menlo,'DejaVu Sans Mono',consolas,'Courier New',monospace\">[SKIP] Function 12 not available anymore.\n",
       "</pre>\n"
      ],
      "text/plain": [
       "[SKIP] Function 12 not available anymore.\n"
      ]
     },
     "metadata": {},
     "output_type": "display_data"
    },
    {
     "name": "stderr",
     "output_type": "stream",
     "text": [
      "01:38:46 [INFO] Episode 61 finished after 752 game steps. Outcome: [-1], reward: [np.int32(-1)], score: [np.int32(-9)]\n"
     ]
    },
    {
     "data": {
      "text/html": [
       "<pre style=\"white-space:pre;overflow-x:auto;line-height:normal;font-family:Menlo,'DejaVu Sans Mono',consolas,'Courier New',monospace\">[SKIP] Function 331 not available anymore.\n",
       "</pre>\n"
      ],
      "text/plain": [
       "[SKIP] Function 331 not available anymore.\n"
      ]
     },
     "metadata": {},
     "output_type": "display_data"
    },
    {
     "name": "stderr",
     "output_type": "stream",
     "text": [
      "01:38:50 [INFO] Starting episode 62: [terran, zerg] on DefeatRoaches\n",
      "01:38:54 [INFO] Starting episode 63: [terran, zerg] on DefeatRoaches\n",
      "01:38:55 [INFO] Episode 63 finished after 784 game steps. Outcome: [-1], reward: [np.int32(-1)], score: [np.int32(-9)]\n"
     ]
    },
    {
     "data": {
      "text/html": [
       "<pre style=\"white-space:pre;overflow-x:auto;line-height:normal;font-family:Menlo,'DejaVu Sans Mono',consolas,'Courier New',monospace\">[SKIP] Function 12 not available anymore.\n",
       "</pre>\n"
      ],
      "text/plain": [
       "[SKIP] Function 12 not available anymore.\n"
      ]
     },
     "metadata": {},
     "output_type": "display_data"
    },
    {
     "name": "stderr",
     "output_type": "stream",
     "text": [
      "01:38:59 [INFO] Starting episode 64: [terran, zerg] on DefeatRoaches\n",
      "01:39:03 [INFO] Starting episode 65: [terran, zerg] on DefeatRoaches\n"
     ]
    },
    {
     "data": {
      "text/html": [
       "<pre style=\"white-space:pre;overflow-x:auto;line-height:normal;font-family:Menlo,'DejaVu Sans Mono',consolas,'Courier New',monospace\">[SKIP] Function 331 not available anymore.\n",
       "</pre>\n"
      ],
      "text/plain": [
       "[SKIP] Function 331 not available anymore.\n"
      ]
     },
     "metadata": {},
     "output_type": "display_data"
    },
    {
     "name": "stderr",
     "output_type": "stream",
     "text": [
      "01:39:04 [INFO] Episode 65 finished after 752 game steps. Outcome: [-1], reward: [np.int32(-1)], score: [np.int32(-9)]\n"
     ]
    },
    {
     "data": {
      "text/html": [
       "<pre style=\"white-space:pre;overflow-x:auto;line-height:normal;font-family:Menlo,'DejaVu Sans Mono',consolas,'Courier New',monospace\">[SKIP] Function 331 not available anymore.\n",
       "</pre>\n"
      ],
      "text/plain": [
       "[SKIP] Function 331 not available anymore.\n"
      ]
     },
     "metadata": {},
     "output_type": "display_data"
    },
    {
     "name": "stderr",
     "output_type": "stream",
     "text": [
      "01:39:08 [INFO] Starting episode 66: [terran, zerg] on DefeatRoaches\n",
      "01:39:12 [INFO] Starting episode 67: [terran, zerg] on DefeatRoaches\n",
      "01:39:13 [INFO] Episode 67 finished after 816 game steps. Outcome: [-1], reward: [np.int32(-1)], score: [np.int32(-9)]\n",
      "01:39:17 [INFO] Starting episode 68: [terran, zerg] on DefeatRoaches\n",
      "01:39:22 [INFO] Starting episode 69: [terran, zerg] on DefeatRoaches\n"
     ]
    },
    {
     "data": {
      "text/html": [
       "<pre style=\"white-space:pre;overflow-x:auto;line-height:normal;font-family:Menlo,'DejaVu Sans Mono',consolas,'Courier New',monospace\">[SKIP] Function 331 not available anymore.\n",
       "</pre>\n"
      ],
      "text/plain": [
       "[SKIP] Function 331 not available anymore.\n"
      ]
     },
     "metadata": {},
     "output_type": "display_data"
    },
    {
     "name": "stderr",
     "output_type": "stream",
     "text": [
      "01:39:22 [INFO] Episode 69 finished after 560 game steps. Outcome: [-1], reward: [np.int32(-1)], score: [np.int32(-9)]\n",
      "01:39:26 [INFO] Starting episode 70: [terran, zerg] on DefeatRoaches\n",
      "01:39:30 [INFO] Starting episode 71: [terran, zerg] on DefeatRoaches\n"
     ]
    },
    {
     "data": {
      "text/html": [
       "<pre style=\"white-space:pre;overflow-x:auto;line-height:normal;font-family:Menlo,'DejaVu Sans Mono',consolas,'Courier New',monospace\">[SKIP] Function 12 not available anymore.\n",
       "</pre>\n"
      ],
      "text/plain": [
       "[SKIP] Function 12 not available anymore.\n"
      ]
     },
     "metadata": {},
     "output_type": "display_data"
    },
    {
     "name": "stderr",
     "output_type": "stream",
     "text": [
      "01:39:31 [INFO] Episode 71 finished after 832 game steps. Outcome: [-1], reward: [np.int32(-1)], score: [np.int32(-9)]\n",
      "01:39:35 [INFO] Starting episode 72: [terran, zerg] on DefeatRoaches\n",
      "01:39:40 [INFO] Starting episode 73: [terran, zerg] on DefeatRoaches\n"
     ]
    },
    {
     "data": {
      "text/html": [
       "<pre style=\"white-space:pre;overflow-x:auto;line-height:normal;font-family:Menlo,'DejaVu Sans Mono',consolas,'Courier New',monospace\">[SKIP] Function 331 not available anymore.\n",
       "</pre>\n"
      ],
      "text/plain": [
       "[SKIP] Function 331 not available anymore.\n"
      ]
     },
     "metadata": {},
     "output_type": "display_data"
    },
    {
     "data": {
      "text/html": [
       "<pre style=\"white-space:pre;overflow-x:auto;line-height:normal;font-family:Menlo,'DejaVu Sans Mono',consolas,'Courier New',monospace\">[SKIP] Function 331 not available anymore.\n",
       "</pre>\n"
      ],
      "text/plain": [
       "[SKIP] Function 331 not available anymore.\n"
      ]
     },
     "metadata": {},
     "output_type": "display_data"
    },
    {
     "data": {
      "text/html": [
       "<pre style=\"white-space:pre;overflow-x:auto;line-height:normal;font-family:Menlo,'DejaVu Sans Mono',consolas,'Courier New',monospace\">[SKIP] Function 331 not available anymore.\n",
       "</pre>\n"
      ],
      "text/plain": [
       "[SKIP] Function 331 not available anymore.\n"
      ]
     },
     "metadata": {},
     "output_type": "display_data"
    },
    {
     "name": "stderr",
     "output_type": "stream",
     "text": [
      "01:39:40 [INFO] Episode 73 finished after 800 game steps. Outcome: [-1], reward: [np.int32(-1)], score: [np.int32(-9)]\n"
     ]
    },
    {
     "data": {
      "text/html": [
       "<pre style=\"white-space:pre;overflow-x:auto;line-height:normal;font-family:Menlo,'DejaVu Sans Mono',consolas,'Courier New',monospace\">[SKIP] Function 12 not available anymore.\n",
       "</pre>\n"
      ],
      "text/plain": [
       "[SKIP] Function 12 not available anymore.\n"
      ]
     },
     "metadata": {},
     "output_type": "display_data"
    },
    {
     "name": "stderr",
     "output_type": "stream",
     "text": [
      "01:39:45 [INFO] Starting episode 74: [terran, zerg] on DefeatRoaches\n",
      "01:39:49 [INFO] Starting episode 75: [terran, zerg] on DefeatRoaches\n",
      "01:39:50 [INFO] Episode 75 finished after 976 game steps. Outcome: [-1], reward: [np.int32(-1)], score: [np.int32(-9)]\n",
      "01:39:54 [INFO] Starting episode 76: [terran, zerg] on DefeatRoaches\n",
      "01:39:58 [INFO] Starting episode 77: [terran, zerg] on DefeatRoaches\n",
      "01:39:59 [INFO] Episode 77 finished after 736 game steps. Outcome: [-1], reward: [np.int32(-1)], score: [np.int32(-9)]\n"
     ]
    },
    {
     "data": {
      "text/html": [
       "<pre style=\"white-space:pre;overflow-x:auto;line-height:normal;font-family:Menlo,'DejaVu Sans Mono',consolas,'Courier New',monospace\">[SKIP] Function 12 not available anymore.\n",
       "</pre>\n"
      ],
      "text/plain": [
       "[SKIP] Function 12 not available anymore.\n"
      ]
     },
     "metadata": {},
     "output_type": "display_data"
    },
    {
     "name": "stderr",
     "output_type": "stream",
     "text": [
      "01:40:03 [INFO] Starting episode 78: [terran, zerg] on DefeatRoaches\n",
      "01:40:07 [INFO] Starting episode 79: [terran, zerg] on DefeatRoaches\n",
      "01:40:08 [INFO] Episode 79 finished after 832 game steps. Outcome: [-1], reward: [np.int32(-1)], score: [np.int32(-9)]\n",
      "01:40:12 [INFO] Starting episode 80: [terran, zerg] on DefeatRoaches\n",
      "01:40:16 [INFO] Starting episode 81: [terran, zerg] on DefeatRoaches\n",
      "01:40:17 [INFO] Episode 81 finished after 560 game steps. Outcome: [-1], reward: [np.int32(-1)], score: [np.int32(-9)]\n"
     ]
    },
    {
     "data": {
      "text/html": [
       "<pre style=\"white-space:pre;overflow-x:auto;line-height:normal;font-family:Menlo,'DejaVu Sans Mono',consolas,'Courier New',monospace\">[SKIP] Function 12 not available anymore.\n",
       "</pre>\n"
      ],
      "text/plain": [
       "[SKIP] Function 12 not available anymore.\n"
      ]
     },
     "metadata": {},
     "output_type": "display_data"
    },
    {
     "name": "stderr",
     "output_type": "stream",
     "text": [
      "01:40:21 [INFO] Starting episode 82: [terran, zerg] on DefeatRoaches\n",
      "01:40:26 [INFO] Starting episode 83: [terran, zerg] on DefeatRoaches\n"
     ]
    },
    {
     "data": {
      "text/html": [
       "<pre style=\"white-space:pre;overflow-x:auto;line-height:normal;font-family:Menlo,'DejaVu Sans Mono',consolas,'Courier New',monospace\">[SKIP] Function 331 not available anymore.\n",
       "</pre>\n"
      ],
      "text/plain": [
       "[SKIP] Function 331 not available anymore.\n"
      ]
     },
     "metadata": {},
     "output_type": "display_data"
    },
    {
     "name": "stderr",
     "output_type": "stream",
     "text": [
      "01:40:28 [INFO] Episode 83 finished after 720 game steps. Outcome: [-1], reward: [np.int32(-1)], score: [np.int32(-9)]\n",
      "01:40:34 [INFO] Starting episode 84: [terran, zerg] on DefeatRoaches\n",
      "01:40:40 [INFO] Starting episode 85: [terran, zerg] on DefeatRoaches\n",
      "01:40:42 [INFO] Episode 85 finished after 800 game steps. Outcome: [-1], reward: [np.int32(-1)], score: [np.int32(-9)]\n",
      "01:40:48 [INFO] Starting episode 86: [terran, zerg] on DefeatRoaches\n",
      "01:40:54 [INFO] Starting episode 87: [terran, zerg] on DefeatRoaches\n",
      "01:40:55 [INFO] Episode 87 finished after 352 game steps. Outcome: [-1], reward: [np.int32(-1)], score: [np.int32(-9)]\n"
     ]
    },
    {
     "data": {
      "text/html": [
       "<pre style=\"white-space:pre;overflow-x:auto;line-height:normal;font-family:Menlo,'DejaVu Sans Mono',consolas,'Courier New',monospace\">[SKIP] Function 331 not available anymore.\n",
       "</pre>\n"
      ],
      "text/plain": [
       "[SKIP] Function 331 not available anymore.\n"
      ]
     },
     "metadata": {},
     "output_type": "display_data"
    },
    {
     "name": "stderr",
     "output_type": "stream",
     "text": [
      "01:41:00 [INFO] Starting episode 88: [terran, zerg] on DefeatRoaches\n",
      "01:41:06 [INFO] Starting episode 89: [terran, zerg] on DefeatRoaches\n",
      "01:41:09 [INFO] Episode 89 finished after 800 game steps. Outcome: [-1], reward: [np.int32(-1)], score: [np.int32(-9)]\n",
      "01:41:14 [INFO] Starting episode 90: [terran, zerg] on DefeatRoaches\n",
      "01:41:20 [INFO] Starting episode 91: [terran, zerg] on DefeatRoaches\n"
     ]
    },
    {
     "data": {
      "text/html": [
       "<pre style=\"white-space:pre;overflow-x:auto;line-height:normal;font-family:Menlo,'DejaVu Sans Mono',consolas,'Courier New',monospace\">[SKIP] Function 331 not available anymore.\n",
       "</pre>\n"
      ],
      "text/plain": [
       "[SKIP] Function 331 not available anymore.\n"
      ]
     },
     "metadata": {},
     "output_type": "display_data"
    },
    {
     "name": "stderr",
     "output_type": "stream",
     "text": [
      "01:41:22 [INFO] Episode 91 finished after 576 game steps. Outcome: [-1], reward: [np.int32(-1)], score: [np.int32(-9)]\n",
      "01:41:28 [INFO] Starting episode 92: [terran, zerg] on DefeatRoaches\n",
      "01:41:33 [INFO] Starting episode 93: [terran, zerg] on DefeatRoaches\n",
      "01:41:36 [INFO] Episode 93 finished after 688 game steps. Outcome: [-1], reward: [np.int32(-1)], score: [np.int32(-9)]\n"
     ]
    },
    {
     "data": {
      "text/html": [
       "<pre style=\"white-space:pre;overflow-x:auto;line-height:normal;font-family:Menlo,'DejaVu Sans Mono',consolas,'Courier New',monospace\">[SKIP] Function 12 not available anymore.\n",
       "</pre>\n"
      ],
      "text/plain": [
       "[SKIP] Function 12 not available anymore.\n"
      ]
     },
     "metadata": {},
     "output_type": "display_data"
    },
    {
     "name": "stderr",
     "output_type": "stream",
     "text": [
      "01:41:41 [INFO] Starting episode 94: [terran, zerg] on DefeatRoaches\n",
      "01:41:48 [INFO] Starting episode 95: [terran, zerg] on DefeatRoaches\n"
     ]
    },
    {
     "data": {
      "text/html": [
       "<pre style=\"white-space:pre;overflow-x:auto;line-height:normal;font-family:Menlo,'DejaVu Sans Mono',consolas,'Courier New',monospace\">[SKIP] Function 12 not available anymore.\n",
       "</pre>\n"
      ],
      "text/plain": [
       "[SKIP] Function 12 not available anymore.\n"
      ]
     },
     "metadata": {},
     "output_type": "display_data"
    },
    {
     "name": "stderr",
     "output_type": "stream",
     "text": [
      "01:41:49 [INFO] Episode 95 finished after 1008 game steps. Outcome: [-1], reward: [np.int32(-1)], score: [np.int32(-9)]\n",
      "01:41:55 [INFO] Starting episode 96: [terran, zerg] on DefeatRoaches\n",
      "01:42:01 [INFO] Starting episode 97: [terran, zerg] on DefeatRoaches\n",
      "01:42:04 [INFO] Episode 97 finished after 800 game steps. Outcome: [-1], reward: [np.int32(-1)], score: [np.int32(-9)]\n",
      "01:42:10 [INFO] Starting episode 98: [terran, zerg] on DefeatRoaches\n",
      "01:42:16 [INFO] Starting episode 99: [terran, zerg] on DefeatRoaches\n",
      "01:44:15 [INFO] Episode 107 finished after 752 game steps. Outcome: [-1], reward: [np.int32(-1)], score: [np.int32(-9)]\n",
      "01:44:59 [INFO] Starting episode 108: [terran, zerg] on DefeatRoaches\n",
      "01:45:04 [INFO] Starting episode 109: [terran, zerg] on DefeatRoaches\n",
      "01:45:05 [INFO] Episode 109 finished after 912 game steps. Outcome: [-1], reward: [np.int32(-1)], score: [np.int32(-9)]\n"
     ]
    },
    {
     "data": {
      "text/html": [
       "<pre style=\"white-space:pre;overflow-x:auto;line-height:normal;font-family:Menlo,'DejaVu Sans Mono',consolas,'Courier New',monospace\">[SKIP] Function 331 not available anymore.\n",
       "</pre>\n"
      ],
      "text/plain": [
       "[SKIP] Function 331 not available anymore.\n"
      ]
     },
     "metadata": {},
     "output_type": "display_data"
    },
    {
     "name": "stderr",
     "output_type": "stream",
     "text": [
      "01:45:09 [INFO] Starting episode 110: [terran, zerg] on DefeatRoaches\n",
      "01:45:13 [INFO] Starting episode 111: [terran, zerg] on DefeatRoaches\n"
     ]
    },
    {
     "data": {
      "text/html": [
       "<pre style=\"white-space:pre;overflow-x:auto;line-height:normal;font-family:Menlo,'DejaVu Sans Mono',consolas,'Courier New',monospace\">[SKIP] Function 331 not available anymore.\n",
       "</pre>\n"
      ],
      "text/plain": [
       "[SKIP] Function 331 not available anymore.\n"
      ]
     },
     "metadata": {},
     "output_type": "display_data"
    },
    {
     "data": {
      "text/html": [
       "<pre style=\"white-space:pre;overflow-x:auto;line-height:normal;font-family:Menlo,'DejaVu Sans Mono',consolas,'Courier New',monospace\">[SKIP] Function 12 not available anymore.\n",
       "</pre>\n"
      ],
      "text/plain": [
       "[SKIP] Function 12 not available anymore.\n"
      ]
     },
     "metadata": {},
     "output_type": "display_data"
    },
    {
     "name": "stderr",
     "output_type": "stream",
     "text": [
      "01:45:14 [INFO] Episode 111 finished after 688 game steps. Outcome: [-1], reward: [np.int32(-1)], score: [np.int32(-9)]\n"
     ]
    },
    {
     "data": {
      "text/html": [
       "<pre style=\"white-space:pre;overflow-x:auto;line-height:normal;font-family:Menlo,'DejaVu Sans Mono',consolas,'Courier New',monospace\">[SKIP] Function 331 not available anymore.\n",
       "</pre>\n"
      ],
      "text/plain": [
       "[SKIP] Function 331 not available anymore.\n"
      ]
     },
     "metadata": {},
     "output_type": "display_data"
    },
    {
     "name": "stderr",
     "output_type": "stream",
     "text": [
      "01:45:18 [INFO] Starting episode 112: [terran, zerg] on DefeatRoaches\n",
      "01:45:22 [INFO] Starting episode 113: [terran, zerg] on DefeatRoaches\n"
     ]
    },
    {
     "data": {
      "text/html": [
       "<pre style=\"white-space:pre;overflow-x:auto;line-height:normal;font-family:Menlo,'DejaVu Sans Mono',consolas,'Courier New',monospace\">[SKIP] Function 12 not available anymore.\n",
       "</pre>\n"
      ],
      "text/plain": [
       "[SKIP] Function 12 not available anymore.\n"
      ]
     },
     "metadata": {},
     "output_type": "display_data"
    },
    {
     "name": "stderr",
     "output_type": "stream",
     "text": [
      "01:45:23 [INFO] Episode 113 finished after 896 game steps. Outcome: [-1], reward: [np.int32(-1)], score: [np.int32(-9)]\n",
      "01:45:27 [INFO] Starting episode 114: [terran, zerg] on DefeatRoaches\n",
      "01:45:32 [INFO] Starting episode 115: [terran, zerg] on DefeatRoaches\n"
     ]
    },
    {
     "data": {
      "text/html": [
       "<pre style=\"white-space:pre;overflow-x:auto;line-height:normal;font-family:Menlo,'DejaVu Sans Mono',consolas,'Courier New',monospace\">[SKIP] Function 12 not available anymore.\n",
       "</pre>\n"
      ],
      "text/plain": [
       "[SKIP] Function 12 not available anymore.\n"
      ]
     },
     "metadata": {},
     "output_type": "display_data"
    },
    {
     "name": "stderr",
     "output_type": "stream",
     "text": [
      "01:45:33 [INFO] Episode 115 finished after 896 game steps. Outcome: [-1], reward: [np.int32(-1)], score: [np.int32(-9)]\n",
      "01:45:37 [INFO] Starting episode 116: [terran, zerg] on DefeatRoaches\n",
      "01:45:41 [INFO] Starting episode 117: [terran, zerg] on DefeatRoaches\n",
      "01:45:42 [INFO] Episode 117 finished after 768 game steps. Outcome: [-1], reward: [np.int32(-1)], score: [np.int32(-9)]\n",
      "01:45:47 [INFO] Starting episode 118: [terran, zerg] on DefeatRoaches\n",
      "01:45:53 [INFO] Starting episode 119: [terran, zerg] on DefeatRoaches\n",
      "01:45:55 [INFO] Episode 119 finished after 704 game steps. Outcome: [-1], reward: [np.int32(-1)], score: [np.int32(-9)]\n",
      "01:46:01 [INFO] Starting episode 120: [terran, zerg] on DefeatRoaches\n",
      "01:46:07 [INFO] Starting episode 121: [terran, zerg] on DefeatRoaches\n",
      "01:46:08 [INFO] Episode 121 finished after 464 game steps. Outcome: [-1], reward: [np.int32(-1)], score: [np.int32(-9)]\n",
      "01:46:13 [INFO] Starting episode 122: [terran, zerg] on DefeatRoaches\n",
      "01:46:18 [INFO] Starting episode 123: [terran, zerg] on DefeatRoaches\n"
     ]
    },
    {
     "data": {
      "text/html": [
       "<pre style=\"white-space:pre;overflow-x:auto;line-height:normal;font-family:Menlo,'DejaVu Sans Mono',consolas,'Courier New',monospace\">[SKIP] Function 331 not available anymore.\n",
       "</pre>\n"
      ],
      "text/plain": [
       "[SKIP] Function 331 not available anymore.\n"
      ]
     },
     "metadata": {},
     "output_type": "display_data"
    },
    {
     "name": "stderr",
     "output_type": "stream",
     "text": [
      "01:46:18 [INFO] Episode 123 finished after 768 game steps. Outcome: [-1], reward: [np.int32(-1)], score: [np.int32(-9)]\n"
     ]
    },
    {
     "data": {
      "text/html": [
       "<pre style=\"white-space:pre;overflow-x:auto;line-height:normal;font-family:Menlo,'DejaVu Sans Mono',consolas,'Courier New',monospace\">[SKIP] Function 12 not available anymore.\n",
       "</pre>\n"
      ],
      "text/plain": [
       "[SKIP] Function 12 not available anymore.\n"
      ]
     },
     "metadata": {},
     "output_type": "display_data"
    },
    {
     "name": "stderr",
     "output_type": "stream",
     "text": [
      "01:46:23 [INFO] Starting episode 124: [terran, zerg] on DefeatRoaches\n",
      "01:46:27 [INFO] Starting episode 125: [terran, zerg] on DefeatRoaches\n"
     ]
    },
    {
     "data": {
      "text/html": [
       "<pre style=\"white-space:pre;overflow-x:auto;line-height:normal;font-family:Menlo,'DejaVu Sans Mono',consolas,'Courier New',monospace\">[SKIP] Function 12 not available anymore.\n",
       "</pre>\n"
      ],
      "text/plain": [
       "[SKIP] Function 12 not available anymore.\n"
      ]
     },
     "metadata": {},
     "output_type": "display_data"
    },
    {
     "name": "stderr",
     "output_type": "stream",
     "text": [
      "01:46:28 [INFO] Episode 125 finished after 864 game steps. Outcome: [-1], reward: [np.int32(-1)], score: [np.int32(-9)]\n",
      "01:46:32 [INFO] Starting episode 126: [terran, zerg] on DefeatRoaches\n",
      "01:46:36 [INFO] Starting episode 127: [terran, zerg] on DefeatRoaches\n",
      "01:46:37 [INFO] Episode 127 finished after 960 game steps. Outcome: [-1], reward: [np.int32(-1)], score: [np.int32(-9)]\n",
      "01:46:41 [INFO] Starting episode 128: [terran, zerg] on DefeatRoaches\n",
      "01:46:46 [INFO] Starting episode 129: [terran, zerg] on DefeatRoaches\n"
     ]
    },
    {
     "data": {
      "text/html": [
       "<pre style=\"white-space:pre;overflow-x:auto;line-height:normal;font-family:Menlo,'DejaVu Sans Mono',consolas,'Courier New',monospace\">[SKIP] Function 331 not available anymore.\n",
       "</pre>\n"
      ],
      "text/plain": [
       "[SKIP] Function 331 not available anymore.\n"
      ]
     },
     "metadata": {},
     "output_type": "display_data"
    },
    {
     "name": "stderr",
     "output_type": "stream",
     "text": [
      "01:46:46 [INFO] Episode 129 finished after 640 game steps. Outcome: [-1], reward: [np.int32(-1)], score: [np.int32(-9)]\n"
     ]
    },
    {
     "data": {
      "text/html": [
       "<pre style=\"white-space:pre;overflow-x:auto;line-height:normal;font-family:Menlo,'DejaVu Sans Mono',consolas,'Courier New',monospace\">[SKIP] Function 331 not available anymore.\n",
       "</pre>\n"
      ],
      "text/plain": [
       "[SKIP] Function 331 not available anymore.\n"
      ]
     },
     "metadata": {},
     "output_type": "display_data"
    },
    {
     "name": "stderr",
     "output_type": "stream",
     "text": [
      "01:46:51 [INFO] Starting episode 130: [terran, zerg] on DefeatRoaches\n"
     ]
    }
   ],
   "source": [
    "from rich.live import Live\n",
    "from rich.table import Table\n",
    "from rich.console import Console\n",
    "from collections import deque\n",
    "import matplotlib.pyplot as plt\n",
    "import random\n",
    "import sys\n",
    "from absl import flags\n",
    "\n",
    "# Fix for absl.flags in Jupyter or script context\n",
    "flags.FLAGS(sys.argv, known_only=True)\n",
    "\n",
    "# Import your environment and utils\n",
    "# from util import preprocess, legal_actions, make_pysc2_call\n",
    "# from env import SC2EnvsMulti\n",
    "\n",
    "console = Console()\n",
    "envs = SC2EnvsMulti(nb_actor=1)\n",
    "pending_action = [None] * envs.nb\n",
    "last_score = envs.nb\n",
    "MAX_ROWS = 20\n",
    "MAX_ITERS = 5000  # Set this to your desired number of steps\n",
    "recent_rows = deque(maxlen=MAX_ROWS)\n",
    "\n",
    "# For tracking per-episode scores\n",
    "episode_score = [0] * envs.nb\n",
    "scores = []\n",
    "\n",
    "def generate_table():\n",
    "    table = Table(title=f\"SC2 Agent Actions (Last {MAX_ROWS} Steps)\", expand=True)\n",
    "    table.add_column(\"Step\", justify=\"right\")\n",
    "    table.add_column(\"Function ID\", justify=\"right\")\n",
    "    table.add_column(\"Args\", justify=\"left\")\n",
    "    for row in recent_rows:\n",
    "        table.add_row(*row)\n",
    "    return table\n",
    "\n",
    "# ─── Main Loop ───────────────────────────────────────────────────────────────\n",
    "with Live(generate_table(), refresh_per_second=10, console=console, transient=True) as live:\n",
    "    for step in range(MAX_ITERS):\n",
    "        for i in range(envs.nb):\n",
    "            ts = envs.obs[i]\n",
    "            last_score = 0 \n",
    "            if pending_action[i]:\n",
    "                action, pending_action[i] = make_pysc2_call(None, ts, pending_action[i])\n",
    "            else:\n",
    "                legal = legal_actions(ts)\n",
    "                action_idx = random.choice(legal)\n",
    "                action, pending_action[i] = make_pysc2_call(action_idx, ts)\n",
    "\n",
    "            recent_rows.append((str(step), str(action.function), str(action.arguments)))\n",
    "            live.update(generate_table())\n",
    "\n",
    "            # Training on Curiculam Score\n",
    "            ts2   = envs.step(i, action)\n",
    "            cur   = int(ts2.observation[\"score_cumulative\"][0])\n",
    "            delta = cur - last_score\n",
    "            last_score = cur\n",
    "            episode_score[i] += delta\n",
    "\n",
    "            # Normal Campain reward \n",
    "            # ts = envs.step(i, action)\n",
    "            # episode_score[i] += ts.reward\n",
    "\n",
    "            if ts.last():\n",
    "                scores.append(episode_score[i])\n",
    "                episode_score[i] = 0  # reset\n",
    "                envs.reset(i)\n",
    "\n",
    "envs.close()\n",
    "\n",
    "# ─── Plot Episode Scores ─────────────────────────────────────────────────────\n",
    "plt.figure(figsize=(10, 4))\n",
    "plt.plot(scores, label=\"Episode Score\", marker='o', linewidth=1.5)\n",
    "plt.xlabel(\"Episode\")\n",
    "plt.ylabel(\"Total Score\")\n",
    "plt.title(\"Agent Score per Episode\")\n",
    "plt.grid(True)\n",
    "plt.legend()\n",
    "plt.tight_layout()\n",
    "plt.show()\n"
   ]
  },
  {
   "cell_type": "code",
   "execution_count": 21,
   "id": "50a927f7-75d7-4e23-b0f2-f2dc3997698f",
   "metadata": {},
   "outputs": [],
   "source": [
    "# LOad Replay"
   ]
  },
  {
   "cell_type": "code",
   "execution_count": null,
   "id": "ae3fb42f-d6b0-4f21-8ecb-5f9e182fd3a0",
   "metadata": {},
   "outputs": [],
   "source": []
  },
  {
   "cell_type": "code",
   "execution_count": null,
   "id": "46dfaa05-e89d-4142-84be-19b56bc74c35",
   "metadata": {},
   "outputs": [],
   "source": []
  }
 ],
 "metadata": {
  "kernelspec": {
   "display_name": "Python 3 (ipykernel)",
   "language": "python",
   "name": "python3"
  },
  "language_info": {
   "codemirror_mode": {
    "name": "ipython",
    "version": 3
   },
   "file_extension": ".py",
   "mimetype": "text/x-python",
   "name": "python",
   "nbconvert_exporter": "python",
   "pygments_lexer": "ipython3",
   "version": "3.11.9"
  }
 },
 "nbformat": 4,
 "nbformat_minor": 5
}
